{
 "cells": [
  {
   "cell_type": "code",
   "execution_count": 1,
   "metadata": {
    "colab": {
     "base_uri": "https://localhost:8080/"
    },
    "id": "dKh-Xj4gis6W",
    "outputId": "0b3ea032-0d63-4415-d3ca-68b3f7718677"
   },
   "outputs": [],
   "source": [
    "import os,sys\n",
    "import re, string, unicodedata\n",
    "import nltk\n",
    "from bs4 import BeautifulSoup\n",
    "from nltk import word_tokenize, sent_tokenize\n",
    "from nltk.corpus import stopwords\n",
    "from nltk.stem import LancasterStemmer, WordNetLemmatizer\n",
    "#nltk.download('stopwords')\n",
    "#nltk.download('punkt')"
   ]
  },
  {
   "cell_type": "code",
   "execution_count": 2,
   "metadata": {
    "colab": {
     "base_uri": "https://localhost:8080/"
    },
    "id": "4sH-zDFSjzjM",
    "outputId": "d8b0e69c-ff41-4fec-8555-3cb5c2962365"
   },
   "outputs": [],
   "source": [
    "def strip_html(text):\n",
    "    soup = BeautifulSoup(text, \"html.parser\")\n",
    "    return soup.get_text()"
   ]
  },
  {
   "cell_type": "code",
   "execution_count": 3,
   "metadata": {
    "id": "CPkmDCSioSZb"
   },
   "outputs": [],
   "source": [
    "def remove_non_ascii(words):\n",
    "    \"\"\"Remove non-ASCII characters from list of tokenized words\"\"\"\n",
    "    new_words = []\n",
    "    for word in words:\n",
    "        new_word = unicodedata.normalize('NFKD', word).encode('ascii', 'ignore').decode('utf-8', 'ignore')\n",
    "        new_words.append(new_word)\n",
    "    return new_words\n",
    "\n",
    "def to_lowercase(words):\n",
    "    \"\"\"Convert all characters to lowercase from list of tokenized words\"\"\"\n",
    "    new_words = []\n",
    "    for word in words:\n",
    "        new_word = word.lower()\n",
    "        new_words.append(new_word)\n",
    "    return new_words\n",
    "\n",
    "def remove_punctuation(words):\n",
    "    \"\"\"Remove punctuation from list of tokenized words\"\"\"\n",
    "    new_words = []\n",
    "    for word in words:\n",
    "        new_word = word.translate(str.maketrans(\"\",\"\",string.punctuation))\n",
    "        if new_word != '':\n",
    "            new_words.append(new_word)\n",
    "    return new_words\n",
    "\n",
    "def remove_numbers(words):\n",
    "    \"\"\"Replace all interger occurrences in list of tokenized words with textual representation\"\"\"\n",
    "    new_words = []\n",
    "    for word in words:\n",
    "        new_word = re.sub(r'\\d+','',word)\n",
    "        if new_word != '':\n",
    "            new_words.append(new_word)\n",
    "    return new_words\n",
    "\n",
    "def remove_stopwords(words):\n",
    "    \"\"\"Remove stop words from list of tokenized words\"\"\"\n",
    "    new_words = []\n",
    "    stop_words = set(stopwords.words(\"english\"))\n",
    "    for word in words:\n",
    "        if word not in stop_words:\n",
    "            new_words.append(word)\n",
    "    return new_words\n",
    "\n",
    "def stem_words(words):\n",
    "    \"\"\"Stem words in list of tokenized words\"\"\"\n",
    "    stemmer = LancasterStemmer()\n",
    "    stems = []\n",
    "    for word in words:\n",
    "        stem = stemmer.stem(word)\n",
    "        stems.append(stem)\n",
    "    return stems"
   ]
  },
  {
   "cell_type": "code",
   "execution_count": 4,
   "metadata": {
    "id": "BcWoS93Gs-fT"
   },
   "outputs": [],
   "source": [
    "def lexical_analysis(words):\n",
    "    words = remove_non_ascii(words)\n",
    "    words = to_lowercase(words)\n",
    "    words = remove_numbers(words)\n",
    "    return words"
   ]
  },
  {
   "cell_type": "code",
   "execution_count": 5,
   "metadata": {},
   "outputs": [],
   "source": [
    "vocabulary = []"
   ]
  },
  {
   "cell_type": "code",
   "execution_count": 6,
   "metadata": {},
   "outputs": [
    {
     "name": "stdout",
     "output_type": "stream",
     "text": [
      "size of T1.txt : 64903 bytes\n",
      "size after lexical analysis: 49985 bytes\n",
      "size after removing stopwords: 35419 bytes\n",
      "size after stemming: 27682 bytes\n",
      "size after removing stop words once again after stemming: 27473 bytes\n",
      "\n",
      "\n",
      "\n",
      "size of T10.txt : 42143 bytes\n",
      "size after lexical analysis: 39603 bytes\n",
      "size after removing stopwords: 27140 bytes\n",
      "size after stemming: 21095 bytes\n",
      "size after removing stop words once again after stemming: 20791 bytes\n",
      "\n",
      "\n",
      "\n",
      "size of T2.txt : 20158 bytes\n",
      "size after lexical analysis: 19108 bytes\n",
      "size after removing stopwords: 12627 bytes\n",
      "size after stemming: 9735 bytes\n",
      "size after removing stop words once again after stemming: 9650 bytes\n",
      "\n",
      "\n",
      "\n",
      "size of T3.txt : 11580 bytes\n",
      "size after lexical analysis: 10933 bytes\n",
      "size after removing stopwords: 6834 bytes\n",
      "size after stemming: 5407 bytes\n",
      "size after removing stop words once again after stemming: 5352 bytes\n",
      "\n",
      "\n",
      "\n",
      "size of T4.txt : 16941 bytes\n",
      "size after lexical analysis: 16016 bytes\n",
      "size after removing stopwords: 10428 bytes\n",
      "size after stemming: 8122 bytes\n",
      "size after removing stop words once again after stemming: 8049 bytes\n",
      "\n",
      "\n",
      "\n",
      "size of T5.txt : 24089 bytes\n",
      "size after lexical analysis: 20874 bytes\n",
      "size after removing stopwords: 14045 bytes\n",
      "size after stemming: 10824 bytes\n",
      "size after removing stop words once again after stemming: 10711 bytes\n",
      "\n",
      "\n",
      "\n",
      "size of T6.txt : 56638 bytes\n",
      "size after lexical analysis: 53758 bytes\n",
      "size after removing stopwords: 36418 bytes\n",
      "size after stemming: 27209 bytes\n",
      "size after removing stop words once again after stemming: 26966 bytes\n",
      "\n",
      "\n",
      "\n",
      "size of T7.txt : 74250 bytes\n",
      "size after lexical analysis: 69534 bytes\n",
      "size after removing stopwords: 47140 bytes\n",
      "size after stemming: 35246 bytes\n",
      "size after removing stop words once again after stemming: 34927 bytes\n",
      "\n",
      "\n",
      "\n",
      "size of T8.txt : 18836 bytes\n",
      "size after lexical analysis: 18010 bytes\n",
      "size after removing stopwords: 11991 bytes\n",
      "size after stemming: 9277 bytes\n",
      "size after removing stop words once again after stemming: 9192 bytes\n",
      "\n",
      "\n",
      "\n",
      "size of T9.txt : 56107 bytes\n",
      "size after lexical analysis: 53232 bytes\n",
      "size after removing stopwords: 35111 bytes\n",
      "size after stemming: 26998 bytes\n",
      "size after removing stop words once again after stemming: 26717 bytes\n",
      "\n",
      "\n",
      "\n"
     ]
    }
   ],
   "source": [
    "for filename in os.listdir(os.getcwd()+\"/Docs\"):\n",
    "    with open(os.path.join(os.getcwd()+\"/Docs\",filename),\"r\") as rf:\n",
    "        \n",
    "        print(\"size of\",filename,\":\",os.stat(os.getcwd()+\"/Docs/\"+filename).st_size,\"bytes\")\n",
    "        \n",
    "        processed_doc_name = filename\n",
    "        \n",
    "        sample = rf.read()\n",
    "\n",
    "        sample = strip_html(sample)\n",
    "        # removal of punctuations\n",
    "        sample = sample.translate(str.maketrans(string.punctuation, ' '*len(string.punctuation)))\n",
    "        words = word_tokenize(sample)\n",
    "\n",
    "        words = lexical_analysis(words)\n",
    "        with open(os.path.join(os.getcwd()+\"/processed_docs\",processed_doc_name),\"w\") as wf:\n",
    "            n = wf.write(\" \".join(words))\n",
    "        print(\"size after lexical analysis:\",os.stat(os.getcwd()+\"/processed_docs/\"+processed_doc_name).st_size,\"bytes\")\n",
    "        \n",
    "        words = remove_stopwords(words)\n",
    "        with open(os.path.join(os.getcwd()+\"/processed_docs\",processed_doc_name),\"w\") as wf:\n",
    "            n = wf.write(\" \".join(words))\n",
    "        print(\"size after removing stopwords:\",os.stat(os.getcwd()+\"/processed_docs/\"+processed_doc_name).st_size,\"bytes\")\n",
    "        \n",
    "        words = stem_words(words)\n",
    "        with open(os.path.join(os.getcwd()+\"/processed_docs\",processed_doc_name),\"w\") as wf:\n",
    "            n = wf.write(\" \".join(words))\n",
    "        print(\"size after stemming:\",os.stat(os.getcwd()+\"/processed_docs/\"+processed_doc_name).st_size,\"bytes\")\n",
    "        \n",
    "        words = remove_stopwords(words)\n",
    "        with open(os.path.join(os.getcwd()+\"/processed_docs\",processed_doc_name),\"w\") as wf:\n",
    "            n = wf.write(\" \".join(words))\n",
    "        print(\"size after removing stop words once again after stemming:\",os.stat(os.getcwd()+\"/processed_docs/\"+processed_doc_name).st_size,\"bytes\")\n",
    "        \n",
    "        vocabulary=vocabulary+words\n",
    "        print(\"\\n\\n\")"
   ]
  },
  {
   "cell_type": "code",
   "execution_count": 7,
   "metadata": {},
   "outputs": [],
   "source": [
    "vocabulary = list(set(vocabulary))"
   ]
  },
  {
   "cell_type": "code",
   "execution_count": 8,
   "metadata": {},
   "outputs": [],
   "source": [
    "vocabulary.sort()"
   ]
  },
  {
   "cell_type": "code",
   "execution_count": 9,
   "metadata": {},
   "outputs": [],
   "source": [
    "with open(os.path.join(os.getcwd(),\"vocabulary.txt\"),\"w\") as wf:\n",
    "    wf.write(\" \".join(vocabulary))"
   ]
  }
 ],
 "metadata": {
  "colab": {
   "collapsed_sections": [],
   "name": "DOCUMENT_PREPROCESSING.ipynb",
   "provenance": []
  },
  "kernelspec": {
   "display_name": "Python 3",
   "language": "python",
   "name": "python3"
  },
  "language_info": {
   "codemirror_mode": {
    "name": "ipython",
    "version": 3
   },
   "file_extension": ".py",
   "mimetype": "text/x-python",
   "name": "python",
   "nbconvert_exporter": "python",
   "pygments_lexer": "ipython3",
   "version": "3.7.6"
  }
 },
 "nbformat": 4,
 "nbformat_minor": 1
}
