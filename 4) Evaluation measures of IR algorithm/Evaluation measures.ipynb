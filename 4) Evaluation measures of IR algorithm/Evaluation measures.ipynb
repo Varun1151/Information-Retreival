{
 "cells": [
  {
   "cell_type": "code",
   "execution_count": 1,
   "metadata": {},
   "outputs": [],
   "source": [
    "import numpy as np\n",
    "import matplotlib.pyplot as plt\n",
    "import pandas as pd\n",
    "from matplotlib.ticker import PercentFormatter\n",
    "import random"
   ]
  },
  {
   "cell_type": "markdown",
   "metadata": {},
   "source": [
    "# A)    Calculating recall and precision values for all relevant documents and drawing precision VS Recall Curve. Also finding R-precision."
   ]
  },
  {
   "cell_type": "code",
   "execution_count": 2,
   "metadata": {},
   "outputs": [],
   "source": [
    "def precision_vs_recall(Rq,Aq):\n",
    "    pvr = {}\n",
    "    R_precision = 0\n",
    "    r,lRq = 0,len(Rq) # r denotes number of relevant documents obtained \n",
    "    pvr[\"doc\"] = []\n",
    "    pvr[\"recall\"] = []\n",
    "    pvr[\"precision\"] = []\n",
    "    for i in range(len(Aq)):\n",
    "        item = Aq[i]\n",
    "        if item in Rq:\n",
    "            pvr[\"doc\"].append(item)\n",
    "            r+=1\n",
    "            pvr[\"recall\"].append(r/lRq)\n",
    "            pvr[\"precision\"].append(r/(i+1))\n",
    "        if i+1==lRq:\n",
    "            R_precision = len(pvr[\"precision\"])/lRq\n",
    "    return pvr,R_precision\n",
    "\n",
    "def print_result(data):\n",
    "    df = pd.DataFrame(data)\n",
    "    df = df.set_index(df.columns[0])\n",
    "    print(df)\n",
    "    return df\n",
    "\n",
    "def get_precision_at_standard_11_recall_levels(data):\n",
    "    \n",
    "    recall = [0]\n",
    "    precision = [data[\"precision\"][0]]\n",
    "\n",
    "    for i in np.arange(0.1,1.1,0.1):\n",
    "        \n",
    "        i = round(i,1)\n",
    "        \n",
    "        recall.append(i)\n",
    "        if len(data[\"recall\"])==0:\n",
    "            precision.append(0)\n",
    "        \n",
    "        else:\n",
    "            if data[\"recall\"][0]>i:\n",
    "                precision.append(data[\"precision\"][0])\n",
    "                \n",
    "            elif data[\"recall\"][0]==i:\n",
    "                precision.append(data[\"precision\"][0])\n",
    "                data[\"recall\"].pop(0)\n",
    "                data[\"precision\"].pop(0)\n",
    "                \n",
    "            else:\n",
    "                data[\"recall\"].pop(0)\n",
    "                data[\"precision\"].pop(0)\n",
    "                precision.append(data[\"precision\"][0])\n",
    "           \n",
    "    return recall,precision\n",
    "    \n",
    "    \n",
    "def plot_graph(recall,precision):\n",
    "    plt.plot(recall,precision,\"bo-\")\n",
    "    plt.xlim(0,1.2)\n",
    "    plt.ylim(0,1.2)\n",
    "    plt.xlabel(\"Recall\")\n",
    "    plt.ylabel(\"Precision\")\n",
    "    plt.title(\"Precision at 11 standard recall levels\")\n",
    "    plt.gca().xaxis.set_major_formatter(PercentFormatter(1))\n",
    "    plt.gca().yaxis.set_major_formatter(PercentFormatter(1))\n",
    "    plt.show()"
   ]
  },
  {
   "cell_type": "markdown",
   "metadata": {},
   "source": [
    "# Instance 1"
   ]
  },
  {
   "cell_type": "code",
   "execution_count": 3,
   "metadata": {},
   "outputs": [],
   "source": [
    "Rq_1=[\"d3\",\"d5\",\"d9\",\"d25\",\"d39\",\"d44\",\"d56\",\"d71\",\"d89\",\"d123\"]\n",
    "Aq_1=[\"d123\",\"d84\",\"d56\",\"d6\",\"d8\",\"d9\",\"d511\",\"d129\",\"d187\",\"d25\",\"d38\",\"d48\",\"d250\",\"d113\",\"d3\"]"
   ]
  },
  {
   "cell_type": "code",
   "execution_count": 4,
   "metadata": {},
   "outputs": [
    {
     "name": "stdout",
     "output_type": "stream",
     "text": [
      "      recall  precision\n",
      "doc                    \n",
      "d123     0.1   1.000000\n",
      "d56      0.2   0.666667\n",
      "d9       0.3   0.500000\n",
      "d25      0.4   0.400000\n",
      "d3       0.5   0.333333\n"
     ]
    }
   ],
   "source": [
    "res_pvr,r_precision = precision_vs_recall(Rq_1,Aq_1) \n",
    "result = print_result(res_pvr)"
   ]
  },
  {
   "cell_type": "code",
   "execution_count": 5,
   "metadata": {},
   "outputs": [
    {
     "data": {
      "image/png": "[encoded data removed]",
      "text/plain": [
       "<Figure size 432x288 with 1 Axes>"
      ]
     },
     "metadata": {
      "needs_background": "light"
     },
     "output_type": "display_data"
    }
   ],
   "source": [
    "recall,precision = get_precision_at_standard_11_recall_levels(res_pvr)      \n",
    "plot_graph(recall,precision)"
   ]
  },
  {
   "cell_type": "code",
   "execution_count": 6,
   "metadata": {},
   "outputs": [
    {
     "name": "stdout",
     "output_type": "stream",
     "text": [
      "R-Precision :  0.4\n"
     ]
    }
   ],
   "source": [
    "print(\"R-Precision : \",r_precision)"
   ]
  },
  {
   "cell_type": "markdown",
   "metadata": {},
   "source": [
    "# Instance 2"
   ]
  },
  {
   "cell_type": "code",
   "execution_count": 7,
   "metadata": {},
   "outputs": [],
   "source": [
    "Rq_2=[\"d3\",\"d56\",\"d129\"]\n",
    "Aq_2=[\"d123\",\"d84\",\"d56\",\"d6\",\"d8\",\"d9\",\"d511\",\"d129\",\"d187\",\"d25\",\"d38\",\"d48\",\"d250\",\"d113\",\"d3\"]"
   ]
  },
  {
   "cell_type": "code",
   "execution_count": 8,
   "metadata": {},
   "outputs": [
    {
     "name": "stdout",
     "output_type": "stream",
     "text": [
      "        recall  precision\n",
      "doc                      \n",
      "d56   0.333333   0.333333\n",
      "d129  0.666667   0.250000\n",
      "d3    1.000000   0.200000\n"
     ]
    }
   ],
   "source": [
    "res_pvr_1,r_precision_1 = precision_vs_recall(Rq_2,Aq_2) \n",
    "result_1 = print_result(res_pvr_1)"
   ]
  },
  {
   "cell_type": "code",
   "execution_count": 9,
   "metadata": {},
   "outputs": [
    {
     "data": {
      "image/png": "[encoded data removed]",
      "text/plain": [
       "<Figure size 432x288 with 1 Axes>"
      ]
     },
     "metadata": {
      "needs_background": "light"
     },
     "output_type": "display_data"
    }
   ],
   "source": [
    "recall,precision = get_precision_at_standard_11_recall_levels(res_pvr_1)\n",
    "plot_graph(recall,precision)"
   ]
  },
  {
   "cell_type": "code",
   "execution_count": 10,
   "metadata": {},
   "outputs": [
    {
     "name": "stdout",
     "output_type": "stream",
     "text": [
      "R-Precision :  0.3333333333333333\n"
     ]
    }
   ],
   "source": [
    "print(\"R-Precision : \",r_precision_1)"
   ]
  },
  {
   "cell_type": "markdown",
   "metadata": {},
   "source": [
    "# B) Comparing two algorithms for the same query q"
   ]
  },
  {
   "cell_type": "code",
   "execution_count": 11,
   "metadata": {},
   "outputs": [],
   "source": [
    "def get_r_precision(Rq,Aq):\n",
    "    r_prec = []\n",
    "    for rq,aq in zip(Rq,Aq):\n",
    "        counter = 0\n",
    "        len_rq = len(rq)\n",
    "        for i in range(len_rq):\n",
    "            item = aq[i]\n",
    "            if item in rq:\n",
    "                counter+=1\n",
    "        r_prec.append(counter/len_rq)\n",
    "    return r_prec"
   ]
  },
  {
   "cell_type": "code",
   "execution_count": 12,
   "metadata": {},
   "outputs": [],
   "source": [
    "docs = [\"d\"+str(i) for i in range(1,21)]\n",
    "\n",
    "Rq_for_10_queries, Aq_for_algo_A, Aq_for_algo_B = [],[],[]\n",
    "\n",
    "# Generating n relavent documents for a given query\n",
    "for _ in range(10):\n",
    "    n = random.randint(8,12)\n",
    "    li = random.sample(docs,n)\n",
    "    Rq_for_10_queries.append(li)\n",
    "    \n",
    "# Generating n documents retrieved by Algoritm A for a given query\n",
    "for _ in range(10):\n",
    "    n = random.randint(13,18)\n",
    "    li = random.sample(docs,n)\n",
    "    Aq_for_algo_A.append(li)\n",
    "    \n",
    "# Generating n documents retrieved by Algoritm B for a given query\n",
    "for _ in range(10):\n",
    "    n = random.randint(13,18)\n",
    "    li = random.sample(docs,n)\n",
    "    Aq_for_algo_B.append(li)\n",
    "    \n",
    "qno = list(range(1,11))"
   ]
  },
  {
   "cell_type": "code",
   "execution_count": 13,
   "metadata": {},
   "outputs": [],
   "source": [
    "RP_A = get_r_precision(Rq_for_10_queries,Aq_for_algo_A)\n",
    "RP_B = get_r_precision(Rq_for_10_queries,Aq_for_algo_B)\n",
    "RP_AB = [A-B for A,B in zip(RP_A,RP_B)]"
   ]
  },
  {
   "cell_type": "code",
   "execution_count": 14,
   "metadata": {},
   "outputs": [
    {
     "data": {
      "image/png": "[encoded data removed]",
      "text/plain": [
       "<Figure size 432x288 with 1 Axes>"
      ]
     },
     "metadata": {
      "needs_background": "light"
     },
     "output_type": "display_data"
    }
   ],
   "source": [
    "plt.bar(qno,RP_AB,color=\"blue\",width=0.7)\n",
    "plt.xticks(qno)\n",
    "plt.axhline(y = 0, color=\"black\",linestyle = '-')\n",
    "plt.xlabel(\"Query Number\")\n",
    "plt.ylabel(\"R Precision A-B\")\n",
    "plt.title(\"Precision Histogram\")\n",
    "plt.ylim(-1,1)\n",
    "plt.show()"
   ]
  },
  {
   "cell_type": "markdown",
   "metadata": {},
   "source": [
    "# C) Calculating Harmonic mean and E - measure for all 3 cases"
   ]
  },
  {
   "cell_type": "code",
   "execution_count": 15,
   "metadata": {},
   "outputs": [],
   "source": [
    "def harmonic_mean(data):\n",
    "    F = 2/(1/data[\"recall\"]+1/data[\"precision\"])\n",
    "    return F\n",
    "\n",
    "def e_measure(data,b):\n",
    "    E = 1-((1+b**2)/(b**2/data[\"recall\"] + 1/data[\"precision\"]))\n",
    "    return E "
   ]
  },
  {
   "cell_type": "markdown",
   "metadata": {},
   "source": [
    "# Instance 1"
   ]
  },
  {
   "cell_type": "code",
   "execution_count": 16,
   "metadata": {},
   "outputs": [],
   "source": [
    "res_copy = result.copy()\n",
    "result[\"harmonic_mean\"] = harmonic_mean(res_copy)\n",
    "result[\"e_measure(b=1)\"] = e_measure(res_copy,1) #b=1\n",
    "result[\"e_measure(b=2)\"] = e_measure(res_copy,2) #b>1\n",
    "result[\"e_measure(b=0.5)\"] = e_measure(res_copy,0.5) #b<1"
   ]
  },
  {
   "cell_type": "code",
   "execution_count": 17,
   "metadata": {},
   "outputs": [
    {
     "data": {
      "text/html": [
       "<div>\n",
       "<style scoped>\n",
       "    .dataframe tbody tr th:only-of-type {\n",
       "        vertical-align: middle;\n",
       "    }\n",
       "\n",
       "    .dataframe tbody tr th {\n",
       "        vertical-align: top;\n",
       "    }\n",
       "\n",
       "    .dataframe thead th {\n",
       "        text-align: right;\n",
       "    }\n",
       "</style>\n",
       "<table border=\"1\" class=\"dataframe\">\n",
       "  <thead>\n",
       "    <tr style=\"text-align: right;\">\n",
       "      <th></th>\n",
       "      <th>recall</th>\n",
       "      <th>precision</th>\n",
       "      <th>harmonic_mean</th>\n",
       "      <th>e_measure(b=1)</th>\n",
       "      <th>e_measure(b=2)</th>\n",
       "      <th>e_measure(b=0.5)</th>\n",
       "    </tr>\n",
       "    <tr>\n",
       "      <th>doc</th>\n",
       "      <th></th>\n",
       "      <th></th>\n",
       "      <th></th>\n",
       "      <th></th>\n",
       "      <th></th>\n",
       "      <th></th>\n",
       "    </tr>\n",
       "  </thead>\n",
       "  <tbody>\n",
       "    <tr>\n",
       "      <th>d123</th>\n",
       "      <td>0.1</td>\n",
       "      <td>1.000000</td>\n",
       "      <td>0.181818</td>\n",
       "      <td>0.818182</td>\n",
       "      <td>0.878049</td>\n",
       "      <td>0.642857</td>\n",
       "    </tr>\n",
       "    <tr>\n",
       "      <th>d56</th>\n",
       "      <td>0.2</td>\n",
       "      <td>0.666667</td>\n",
       "      <td>0.307692</td>\n",
       "      <td>0.692308</td>\n",
       "      <td>0.767442</td>\n",
       "      <td>0.545455</td>\n",
       "    </tr>\n",
       "    <tr>\n",
       "      <th>d9</th>\n",
       "      <td>0.3</td>\n",
       "      <td>0.500000</td>\n",
       "      <td>0.375000</td>\n",
       "      <td>0.625000</td>\n",
       "      <td>0.673913</td>\n",
       "      <td>0.558824</td>\n",
       "    </tr>\n",
       "    <tr>\n",
       "      <th>d25</th>\n",
       "      <td>0.4</td>\n",
       "      <td>0.400000</td>\n",
       "      <td>0.400000</td>\n",
       "      <td>0.600000</td>\n",
       "      <td>0.600000</td>\n",
       "      <td>0.600000</td>\n",
       "    </tr>\n",
       "    <tr>\n",
       "      <th>d3</th>\n",
       "      <td>0.5</td>\n",
       "      <td>0.333333</td>\n",
       "      <td>0.400000</td>\n",
       "      <td>0.600000</td>\n",
       "      <td>0.545455</td>\n",
       "      <td>0.642857</td>\n",
       "    </tr>\n",
       "  </tbody>\n",
       "</table>\n",
       "</div>"
      ],
      "text/plain": [
       "      recall  precision  harmonic_mean  e_measure(b=1)  e_measure(b=2)  \\\n",
       "doc                                                                      \n",
       "d123     0.1   1.000000       0.181818        0.818182        0.878049   \n",
       "d56      0.2   0.666667       0.307692        0.692308        0.767442   \n",
       "d9       0.3   0.500000       0.375000        0.625000        0.673913   \n",
       "d25      0.4   0.400000       0.400000        0.600000        0.600000   \n",
       "d3       0.5   0.333333       0.400000        0.600000        0.545455   \n",
       "\n",
       "      e_measure(b=0.5)  \n",
       "doc                     \n",
       "d123          0.642857  \n",
       "d56           0.545455  \n",
       "d9            0.558824  \n",
       "d25           0.600000  \n",
       "d3            0.642857  "
      ]
     },
     "execution_count": 17,
     "metadata": {},
     "output_type": "execute_result"
    }
   ],
   "source": [
    "result"
   ]
  },
  {
   "cell_type": "markdown",
   "metadata": {},
   "source": [
    "# Instance 2"
   ]
  },
  {
   "cell_type": "code",
   "execution_count": 18,
   "metadata": {},
   "outputs": [],
   "source": [
    "res_copy = result_1.copy()\n",
    "result_1[\"harmonic_mean\"] = harmonic_mean(res_copy)\n",
    "result_1[\"e_measure(b=1)\"] = e_measure(res_copy,1)\n",
    "result_1[\"e_measure(b=2)\"] = e_measure(res_copy,2)\n",
    "result_1[\"e_measure(b=0.5)\"] = e_measure(res_copy,0.5)"
   ]
  },
  {
   "cell_type": "code",
   "execution_count": 19,
   "metadata": {},
   "outputs": [
    {
     "data": {
      "text/html": [
       "<div>\n",
       "<style scoped>\n",
       "    .dataframe tbody tr th:only-of-type {\n",
       "        vertical-align: middle;\n",
       "    }\n",
       "\n",
       "    .dataframe tbody tr th {\n",
       "        vertical-align: top;\n",
       "    }\n",
       "\n",
       "    .dataframe thead th {\n",
       "        text-align: right;\n",
       "    }\n",
       "</style>\n",
       "<table border=\"1\" class=\"dataframe\">\n",
       "  <thead>\n",
       "    <tr style=\"text-align: right;\">\n",
       "      <th></th>\n",
       "      <th>recall</th>\n",
       "      <th>precision</th>\n",
       "      <th>harmonic_mean</th>\n",
       "      <th>e_measure(b=1)</th>\n",
       "      <th>e_measure(b=2)</th>\n",
       "      <th>e_measure(b=0.5)</th>\n",
       "    </tr>\n",
       "    <tr>\n",
       "      <th>doc</th>\n",
       "      <th></th>\n",
       "      <th></th>\n",
       "      <th></th>\n",
       "      <th></th>\n",
       "      <th></th>\n",
       "      <th></th>\n",
       "    </tr>\n",
       "  </thead>\n",
       "  <tbody>\n",
       "    <tr>\n",
       "      <th>d56</th>\n",
       "      <td>0.333333</td>\n",
       "      <td>0.333333</td>\n",
       "      <td>0.333333</td>\n",
       "      <td>0.666667</td>\n",
       "      <td>0.666667</td>\n",
       "      <td>0.666667</td>\n",
       "    </tr>\n",
       "    <tr>\n",
       "      <th>d129</th>\n",
       "      <td>0.666667</td>\n",
       "      <td>0.250000</td>\n",
       "      <td>0.363636</td>\n",
       "      <td>0.636364</td>\n",
       "      <td>0.500000</td>\n",
       "      <td>0.714286</td>\n",
       "    </tr>\n",
       "    <tr>\n",
       "      <th>d3</th>\n",
       "      <td>1.000000</td>\n",
       "      <td>0.200000</td>\n",
       "      <td>0.333333</td>\n",
       "      <td>0.666667</td>\n",
       "      <td>0.444444</td>\n",
       "      <td>0.761905</td>\n",
       "    </tr>\n",
       "  </tbody>\n",
       "</table>\n",
       "</div>"
      ],
      "text/plain": [
       "        recall  precision  harmonic_mean  e_measure(b=1)  e_measure(b=2)  \\\n",
       "doc                                                                        \n",
       "d56   0.333333   0.333333       0.333333        0.666667        0.666667   \n",
       "d129  0.666667   0.250000       0.363636        0.636364        0.500000   \n",
       "d3    1.000000   0.200000       0.333333        0.666667        0.444444   \n",
       "\n",
       "      e_measure(b=0.5)  \n",
       "doc                     \n",
       "d56           0.666667  \n",
       "d129          0.714286  \n",
       "d3            0.761905  "
      ]
     },
     "execution_count": 19,
     "metadata": {},
     "output_type": "execute_result"
    }
   ],
   "source": [
    "result_1"
   ]
  },
  {
   "cell_type": "code",
   "execution_count": null,
   "metadata": {},
   "outputs": [],
   "source": []
  }
 ],
 "metadata": {
  "kernelspec": {
   "display_name": "Python 3",
   "language": "python",
   "name": "python3"
  },
  "language_info": {
   "codemirror_mode": {
    "name": "ipython",
    "version": 3
   },
   "file_extension": ".py",
   "mimetype": "text/x-python",
   "name": "python",
   "nbconvert_exporter": "python",
   "pygments_lexer": "ipython3",
   "version": "3.7.6"
  }
 },
 "nbformat": 4,
 "nbformat_minor": 4
}
